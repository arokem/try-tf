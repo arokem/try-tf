{
 "cells": [
  {
   "cell_type": "markdown",
   "metadata": {},
   "source": [
    "# Trying out Theano\n",
    "\n",
    "Based on the [work by Jason Baldridge](https://bcomposes.wordpress.com/2015/11/26/simple-end-to-end-tensorflow-examples/) and on previous experiments with TensorFlow, Google's newly open-sourced data analysis library, I am going to try out [Theano](http://deeplearning.net/software/theano/)."
   ]
  },
  {
   "cell_type": "code",
   "execution_count": 1,
   "metadata": {
    "collapsed": false
   },
   "outputs": [],
   "source": [
    "import theano\n",
    "import theano.tensor as T"
   ]
  },
  {
   "cell_type": "markdown",
   "metadata": {},
   "source": [
    "We will use a few functions from [`scikit-learn`](http://scikit-learn.org) to generate data sets:"
   ]
  },
  {
   "cell_type": "code",
   "execution_count": 2,
   "metadata": {
    "collapsed": false
   },
   "outputs": [],
   "source": [
    "from sklearn.datasets import make_blobs, make_circles, make_moons\n",
    "from sklearn.cross_validation import train_test_split"
   ]
  },
  {
   "cell_type": "markdown",
   "metadata": {},
   "source": [
    "Numpy and Matplotlib are always good to have..."
   ]
  },
  {
   "cell_type": "code",
   "execution_count": 3,
   "metadata": {
    "collapsed": false
   },
   "outputs": [],
   "source": [
    "import numpy as np\n",
    "import matplotlib as mpl\n",
    "import matplotlib.pyplot as plt\n",
    "%matplotlib inline"
   ]
  },
  {
   "cell_type": "markdown",
   "metadata": {},
   "source": [
    "But the default style for plots in MPL is not beautiful enough, so we use another style:"
   ]
  },
  {
   "cell_type": "code",
   "execution_count": 4,
   "metadata": {
    "collapsed": true
   },
   "outputs": [],
   "source": [
    "mpl.style.use('fivethirtyeight')"
   ]
  },
  {
   "cell_type": "markdown",
   "metadata": {},
   "source": [
    "We'll also set up some configuration variables up-front:"
   ]
  },
  {
   "cell_type": "code",
   "execution_count": 5,
   "metadata": {
    "collapsed": true
   },
   "outputs": [],
   "source": [
    "# Configuration variables:\n",
    "num_labels = 2    # The number of labels.\n",
    "NUM_EPOCHS = 5\n",
    "NUM_HIDDEN = 5\n",
    "BATCH_SIZE = 100  # The number of training examples to use per training step.\n",
    "n_train = 1000\n",
    "n_test = 200"
   ]
  },
  {
   "cell_type": "markdown",
   "metadata": {},
   "source": [
    "And set up a function to generate datasets from functions in `scikit-learn`:"
   ]
  },
  {
   "cell_type": "code",
   "execution_count": 6,
   "metadata": {
    "collapsed": false
   },
   "outputs": [],
   "source": [
    "def generate_dataset(func, n_train=n_train, n_test=n_test, num_labels=num_labels, **kwargs):\n",
    "    \"\"\" Create synthetic classification data-sets\n",
    "    \n",
    "    Parameters \n",
    "    ----------\n",
    "    func : one of {`make_blobs`, `make_circles`, `make_moons`}\n",
    "        What kind of data to make.\n",
    "    n_train : int\n",
    "        The size of the training set.\n",
    "    n_test : int\n",
    "        The size of the test set.\n",
    "    num_labels : int\n",
    "        The number of classes.\n",
    "    \n",
    "    Returns\n",
    "    -------\n",
    "    train_data, test_data : 2D arrays\n",
    "        Dimensions: {n_train, n_test} by 2\n",
    "    train_labels, test_labels: one-hot encoder arrays\n",
    "        These have dimensions {n_train, n_test} by num_labels\n",
    "    \"\"\"\n",
    "    fvecs, labels = func(n_train + n_test, **kwargs)\n",
    "    # We need the one-hot encoder!\n",
    "    labels_onehot = (np.arange(num_labels) == labels[:, None])\n",
    "    train_data, test_data, train_labels, test_labels = train_test_split(fvecs.astype(np.float32), \n",
    "                                                                        labels_onehot.astype(np.float32), \n",
    "                                                                        train_size=n_train)\n",
    "    return train_data, test_data, train_labels, test_labels "
   ]
  },
  {
   "cell_type": "markdown",
   "metadata": {},
   "source": [
    "### The first example is a linearly separable data-set:"
   ]
  },
  {
   "cell_type": "code",
   "execution_count": 7,
   "metadata": {
    "collapsed": false
   },
   "outputs": [],
   "source": [
    "train_data, test_data, train_labels, test_labels = generate_dataset(make_blobs, n_train=1000, n_test=200, \n",
    "                                                                    centers=2, center_box=[-4., 4.])"
   ]
  },
  {
   "cell_type": "code",
   "execution_count": 8,
   "metadata": {
    "collapsed": false
   },
   "outputs": [
    {
     "data": {
      "text/plain": [
       "(1000, 2)"
      ]
     },
     "execution_count": 8,
     "metadata": {},
     "output_type": "execute_result"
    }
   ],
   "source": [
    "train_labels.shape"
   ]
  },
  {
   "cell_type": "code",
   "execution_count": 9,
   "metadata": {
    "collapsed": false
   },
   "outputs": [
    {
     "data": {
      "image/png": "[encoded data removed]",
      "text/plain": [
       "<matplotlib.figure.Figure at 0x106f92490>"
      ]
     },
     "metadata": {},
     "output_type": "display_data"
    }
   ],
   "source": [
    "fig, ax = plt.subplots(1)\n",
    "ax.plot(train_data[np.where(train_labels[:, 0]), 0], train_data[np.where(train_labels[:, 0]), 1], 'bo')\n",
    "ax.plot(train_data[np.where(train_labels[:, 1]), 0], train_data[np.where(train_labels[:, 1]), 1], 'ro')\n",
    "ax.set_aspect('equal')"
   ]
  },
  {
   "cell_type": "code",
   "execution_count": 10,
   "metadata": {
    "collapsed": false
   },
   "outputs": [
    {
     "name": "stdout",
     "output_type": "stream",
     "text": [
      "[  0.   4.  16.]\n"
     ]
    }
   ],
   "source": [
    "a = theano.tensor.vector() # declare variable\n",
    "b = theano.tensor.vector() # declare variable\n",
    "\n",
    "out = a ** 2 + b ** 2 + 2 * a * b            # build symbolic expression\n",
    "f = theano.function([a, b], out)   # compile function\n",
    "\n",
    "print(f([0, 1, 2], [0, 1, 2]))\n"
   ]
  },
  {
   "cell_type": "code",
   "execution_count": null,
   "metadata": {
    "collapsed": true
   },
   "outputs": [],
   "source": []
  },
  {
   "cell_type": "code",
   "execution_count": 11,
   "metadata": {
    "collapsed": false
   },
   "outputs": [],
   "source": [
    "train_size, num_features = train_data.shape\n",
    "train_size, num_labels = train_labels.shape\n",
    "\n",
    "x = T.vector()\n",
    "y = T.vector()\n",
    "\n",
    "W = theano.shared(np.zeros([num_features, num_labels]))\n",
    "b = theano.shared(np.zeros([num_labels]))"
   ]
  },
  {
   "cell_type": "code",
   "execution_count": 12,
   "metadata": {
    "collapsed": false
   },
   "outputs": [
    {
     "data": {
      "text/plain": [
       "<function theano.tensor.basic.sum>"
      ]
     },
     "execution_count": 12,
     "metadata": {},
     "output_type": "execute_result"
    }
   ],
   "source": [
    "T.sum"
   ]
  },
  {
   "cell_type": "code",
   "execution_count": 13,
   "metadata": {
    "collapsed": false
   },
   "outputs": [],
   "source": [
    "def train_softmax(train_data, train_labels,\n",
    "                  batch_size=BATCH_SIZE,\n",
    "                  num_epochs=NUM_EPOCHS):\n",
    "    \"\"\" \n",
    "    Train a softmax network with cross-entropy penalty\n",
    "    \n",
    "    Parameters\n",
    "    ----------\n",
    "    train_data, train_labels: output of `generate_dataset`.\n",
    "    batch_size : int\n",
    "        The number of items in training batch.\n",
    "    num_epochs : int\n",
    "        The number of training epochs.\n",
    "        \n",
    "    Returns \n",
    "    -------\n",
    "    W : Variable\n",
    "        The model estimated weight matrix.\n",
    "    b : Variable\n",
    "        The model estimated bias vector.\n",
    "    s : TensorFlow session\n",
    "        The session in which these variables were defined.\n",
    "    \"\"\"\n",
    "    train_size, num_features = train_data.shape\n",
    "    train_size, num_labels = train_labels.shape\n",
    "    x = T.matrix()\n",
    "    y = T.matrix()\n",
    "\n",
    "    # The parameters\n",
    "    W = theano.shared(np.zeros([num_features, num_labels]))\n",
    "    b = theano.shared(np.zeros([num_labels]))\n",
    "    # Predict back\n",
    "    y_hat = T.nnet.softmax(T.dot(x, W) + b)\n",
    "    cross_entropy = -y * T.log(y_hat) - (1-y) * T.log(1-y_hat) # Cross-entropy loss function\n",
    "    cost = cross_entropy.mean()  # The cost to minimize\n",
    "    # The gradients of the function relative to the parameter:\n",
    "    gw, gb = T.grad(cost, [W, b])    \n",
    "        \n",
    "    # Optimization:\n",
    "    train = theano.function(inputs=[x, y],\n",
    "                            outputs=[y_hat, cross_entropy],\n",
    "                            updates=((W, W - 0.1 * gw), (b, b - 0.1 * gb)))\n",
    "    \n",
    "    predict = theano.function(inputs=[x], outputs=y_hat)\n",
    "    \n",
    "    # Iterate and train:\n",
    "    print('Training:')\n",
    "    for step in xrange(num_epochs * train_size // batch_size):\n",
    "        print(step),\n",
    "\n",
    "        offset = (step * batch_size) % train_size\n",
    "        batch_data = train_data[offset:(offset + batch_size), :]\n",
    "        batch_labels = train_labels[offset:(offset + batch_size)]\n",
    "        pred, err = train(batch_data, batch_labels)\n",
    "\n",
    "        if offset >= train_size-batch_size:\n",
    "            print\n",
    "\n",
    "    return W, b"
   ]
  },
  {
   "cell_type": "code",
   "execution_count": 14,
   "metadata": {
    "collapsed": false
   },
   "outputs": [
    {
     "name": "stdout",
     "output_type": "stream",
     "text": [
      "Training:\n",
      "0 1 2 3 4 5 6 7 8 9\n",
      "10 11 12 13 14 15 16 17 18 19\n",
      "20 21 22 23 24 25 26 27 28 29\n",
      "30 31 32 33 34 35 36 37 38 39\n",
      "40 41 42 43 44 45 46 47 48 49\n"
     ]
    }
   ],
   "source": [
    "W, b = train_softmax(train_data, train_labels)"
   ]
  },
  {
   "cell_type": "code",
   "execution_count": 15,
   "metadata": {
    "collapsed": false
   },
   "outputs": [],
   "source": [
    "def evaluate_softmax(W, b, test_data, test_labels):\n",
    "    \"\"\" \n",
    "    Proportion correct classification in test data of \n",
    "    the softmax model.\n",
    "    \n",
    "    Parameters\n",
    "    ----------\n",
    "    W, b, s : outputs of `train_softmax`\n",
    "    test_data, test_labels : outputs of `generate_dataset`\n",
    "    \n",
    "    Returns \n",
    "    -------\n",
    "    p_correct : float\n",
    "        The proportion correct classification\n",
    "    \"\"\"\n",
    "    test_size, num_features = test_data.shape\n",
    "    test_size, num_labels = test_labels.shape\n",
    "    # This is where training samples and labels are fed to the graph.\n",
    "    # These placeholder nodes will be fed a batch of training data at each\n",
    "    # training step using the {feed_dict} argument to the Run() call below.\n",
    "    x = T.matrix('x')\n",
    "    y = T.matrix('y')\n",
    "    y_hat = T.nnet.softmax(T.dot(x, W) + b)\n",
    "    accuracy = T.eq(T.argmax(y_hat, 1), T.argmax(y, 1))\n",
    "    p_correct = T.mean(accuracy)\n",
    "    f_p_correct = theano.function([x, y], p_correct)\n",
    "    p_correct = f_p_correct(test_data, test_labels)\n",
    "    return p_correct"
   ]
  },
  {
   "cell_type": "code",
   "execution_count": 16,
   "metadata": {
    "collapsed": false
   },
   "outputs": [
    {
     "data": {
      "text/plain": [
       "array(1.0)"
      ]
     },
     "execution_count": 16,
     "metadata": {},
     "output_type": "execute_result"
    }
   ],
   "source": [
    "evaluate_softmax(W, b, test_data, test_labels)"
   ]
  },
  {
   "cell_type": "code",
   "execution_count": 17,
   "metadata": {
    "collapsed": false
   },
   "outputs": [],
   "source": [
    "Wx_b = np.dot(test_data, W.get_value()) + b.get_value()"
   ]
  },
  {
   "cell_type": "code",
   "execution_count": 18,
   "metadata": {
    "collapsed": false
   },
   "outputs": [],
   "source": [
    "x = T.matrix('x')\n",
    "y_hat = T.nnet.softmax(T.dot(x, W) + b)\n",
    "f = theano.function([x], y_hat)\n",
    "cls = f(test_data)"
   ]
  },
  {
   "cell_type": "code",
   "execution_count": 19,
   "metadata": {
    "collapsed": false
   },
   "outputs": [],
   "source": [
    "cls_np = np.round(cls)"
   ]
  },
  {
   "cell_type": "code",
   "execution_count": 20,
   "metadata": {
    "collapsed": false
   },
   "outputs": [
    {
     "data": {
      "image/png": "[encoded data removed]",
      "text/plain": [
       "<matplotlib.figure.Figure at 0x1082de510>"
      ]
     },
     "metadata": {},
     "output_type": "display_data"
    }
   ],
   "source": [
    "fig, ax = plt.subplots(1)\n",
    "ax.plot(test_data[np.where(cls_np[:, 0]), 0], test_data[np.where(cls_np[:, 0]), 1], 'bo')\n",
    "ax.plot(test_data[np.where(cls_np[:, 1]), 0], test_data[np.where(cls_np[:, 1]), 1], 'ro')\n",
    "ax.set_aspect('equal')"
   ]
  },
  {
   "cell_type": "markdown",
   "metadata": {},
   "source": [
    "### The next set of data is not linearly separable:"
   ]
  },
  {
   "cell_type": "code",
   "execution_count": 21,
   "metadata": {
    "collapsed": false
   },
   "outputs": [],
   "source": [
    "train_data, test_data, train_labels, test_labels = generate_dataset(make_moons, n_train=1000, n_test=200, noise=0.2)"
   ]
  },
  {
   "cell_type": "code",
   "execution_count": 22,
   "metadata": {
    "collapsed": false
   },
   "outputs": [
    {
     "data": {
      "image/png": "[encoded data removed]",
      "text/plain": [
       "<matplotlib.figure.Figure at 0x10a930890>"
      ]
     },
     "metadata": {},
     "output_type": "display_data"
    }
   ],
   "source": [
    "fig, ax = plt.subplots(1)\n",
    "ax.plot(train_data[np.where(train_labels[:, 0]), 0], train_data[np.where(train_labels[:, 0]), 1], 'bo')\n",
    "ax.plot(train_data[np.where(train_labels[:, 1]), 0], train_data[np.where(train_labels[:, 1]), 1], 'ro')\n",
    "ax.set_aspect('equal')"
   ]
  },
  {
   "cell_type": "markdown",
   "metadata": {},
   "source": [
    "### And softmax doesn't do great:"
   ]
  },
  {
   "cell_type": "code",
   "execution_count": 23,
   "metadata": {
    "collapsed": false
   },
   "outputs": [
    {
     "name": "stdout",
     "output_type": "stream",
     "text": [
      "Training:\n",
      "0 1 2 3 4 5 6 7 8 9\n",
      "10 11 12 13 14 15 16 17 18 19\n",
      "20 21 22 23 24 25 26 27 28 29\n",
      "30 31 32 33 34 35 36 37 38 39\n",
      "40 41 42 43 44 45 46 47 48 49\n"
     ]
    },
    {
     "data": {
      "text/plain": [
       "array(0.865)"
      ]
     },
     "execution_count": 23,
     "metadata": {},
     "output_type": "execute_result"
    }
   ],
   "source": [
    "W, b = train_softmax(train_data, train_labels)\n",
    "evaluate_softmax(W, b, test_data, test_labels)"
   ]
  },
  {
   "cell_type": "code",
   "execution_count": 24,
   "metadata": {
    "collapsed": false
   },
   "outputs": [],
   "source": [
    "x = T.matrix('x')\n",
    "y_hat = T.nnet.softmax(T.dot(x, W) + b)\n",
    "f = theano.function([x], y_hat)\n",
    "cls = np.round(f(test_data))"
   ]
  },
  {
   "cell_type": "code",
   "execution_count": 25,
   "metadata": {
    "collapsed": false
   },
   "outputs": [
    {
     "data": {
      "image/png": "[encoded data removed]",
      "text/plain": [
       "<matplotlib.figure.Figure at 0x10a59cf90>"
      ]
     },
     "metadata": {},
     "output_type": "display_data"
    }
   ],
   "source": [
    "fig, ax = plt.subplots(1)\n",
    "ax.plot(test_data[np.where(cls[:, 0]), 0], test_data[np.where(cls[:, 0]), 1], 'bo')\n",
    "ax.plot(test_data[np.where(cls[:, 1]), 0], test_data[np.where(cls[:, 1]), 1], 'ro')\n",
    "ax.set_aspect('equal')"
   ]
  },
  {
   "cell_type": "code",
   "execution_count": 26,
   "metadata": {
    "collapsed": true
   },
   "outputs": [],
   "source": [
    "train_data, test_data, train_labels, test_labels = generate_dataset(make_circles, n_train=1000, n_test=200, noise=0.2, factor=0.1)"
   ]
  },
  {
   "cell_type": "code",
   "execution_count": 27,
   "metadata": {
    "collapsed": false
   },
   "outputs": [
    {
     "data": {
      "image/png": "[encoded data removed]",
      "text/plain": [
       "<matplotlib.figure.Figure at 0x108fb6290>"
      ]
     },
     "metadata": {},
     "output_type": "display_data"
    }
   ],
   "source": [
    "fig, ax = plt.subplots(1)\n",
    "ax.plot(train_data[np.where(train_labels[:, 0]), 0], train_data[np.where(train_labels[:, 0]), 1], 'bo')\n",
    "ax.plot(train_data[np.where(train_labels[:, 1]), 0], train_data[np.where(train_labels[:, 1]), 1], 'ro')\n",
    "ax.set_aspect('equal')"
   ]
  },
  {
   "cell_type": "code",
   "execution_count": 28,
   "metadata": {
    "collapsed": false
   },
   "outputs": [
    {
     "name": "stdout",
     "output_type": "stream",
     "text": [
      "Training:\n",
      "0 1 2 3 4 5 6 7 8 9\n",
      "10 11 12 13 14 15 16 17 18 19\n",
      "20 21 22 23 24 25 26 27 28 29\n",
      "30 31 32 33 34 35 36 37 38 39\n",
      "40 41 42 43 44 45 46 47 48 49\n"
     ]
    },
    {
     "data": {
      "text/plain": [
       "array(0.33)"
      ]
     },
     "execution_count": 28,
     "metadata": {},
     "output_type": "execute_result"
    }
   ],
   "source": [
    "W, b  = train_softmax(train_data, train_labels)\n",
    "evaluate_softmax(W, b, test_data, test_labels)"
   ]
  },
  {
   "cell_type": "code",
   "execution_count": 29,
   "metadata": {
    "collapsed": false
   },
   "outputs": [],
   "source": [
    "x = T.matrix('x')\n",
    "y_hat = T.nnet.softmax(T.dot(x, W) + b)\n",
    "f = theano.function([x], y_hat)\n",
    "cls = np.round(f(test_data))"
   ]
  },
  {
   "cell_type": "code",
   "execution_count": 30,
   "metadata": {
    "collapsed": false
   },
   "outputs": [
    {
     "data": {
      "image/png": "[encoded data removed]",
      "text/plain": [
       "<matplotlib.figure.Figure at 0x108e8ba10>"
      ]
     },
     "metadata": {},
     "output_type": "display_data"
    }
   ],
   "source": [
    "fig, ax = plt.subplots(1)\n",
    "ax.plot(test_data[np.where(cls[:, 0]), 0], test_data[np.where(cls[:, 0]), 1], 'bo')\n",
    "ax.plot(test_data[np.where(cls[:, 1]), 0], test_data[np.where(cls[:, 1]), 1], 'ro')\n",
    "ax.set_aspect('equal')"
   ]
  },
  {
   "cell_type": "markdown",
   "metadata": {},
   "source": [
    "## Another approach is a network with hidden layers"
   ]
  },
  {
   "cell_type": "markdown",
   "metadata": {},
   "source": [
    "First, we will define a helper function that helps us initialize the weights in networks with hidden layers. This strategy was proposed in a [paper](http://jmlr.org/proceedings/papers/v9/glorot10a/glorot10a.pdf) by Xavier Glorot and Yoshua Bengio, and is explained in this [blog post](http://andyljones.tumblr.com/post/110998971763/an-explanation-of-xavier-initialization)\n",
    "\n",
    "The implementation is based on code by Delip Rao (https://github.com/delip/blog-stuff/blob/master/tensorflow_ufp.ipynb)\n"
   ]
  },
  {
   "cell_type": "code",
   "execution_count": 31,
   "metadata": {
    "collapsed": false
   },
   "outputs": [],
   "source": [
    "def init_weights(shape, init_method='xavier', xavier_params = (None, None)):\n",
    "    \"\"\" Initialization of weights in a multi-layer network \n",
    "    \n",
    "    Parameters\n",
    "    ----------\n",
    "    shape : list or tuple\n",
    "        The shape of the weight matrix\n",
    "    init_method: str, one of {'xavier', 'zeros', 'uniform'}\n",
    "        The initialization method for the weights. \n",
    "           'xavier' : uses the method developed by Glorot and Bengio.\n",
    "           'zeros' : set all weights to zeros.\n",
    "           'uniform' : weights drawn from uniform distribution [0, 1].\n",
    "    xavier_params : list or tuple of length 2\n",
    "        fan_in and fan_out ratios for this layer\n",
    "    \"\"\"    \n",
    "    if init_method == 'zeros':\n",
    "        return theano.shared(np.zeros(shape))\n",
    "    elif init_method == 'uniform':\n",
    "        return theano.shared(np.random.uniform(size=shape))\n",
    "    else: #xavier\n",
    "        (fan_in, fan_out) = xavier_params\n",
    "        low = -4*np.sqrt(6.0/(fan_in + fan_out)) # {sigmoid:4, tanh:1} \n",
    "        high = 4*np.sqrt(6.0/(fan_in + fan_out))\n",
    "        return theano.shared(np.random.uniform(low=low, high=high, size=shape))\n",
    "    "
   ]
  },
  {
   "cell_type": "code",
   "execution_count": 32,
   "metadata": {
    "collapsed": false
   },
   "outputs": [],
   "source": [
    "def train_hidden(train_data, \n",
    "                 train_labels, \n",
    "                 batch_size=BATCH_SIZE,\n",
    "                 num_epochs=NUM_EPOCHS, \n",
    "                 num_hidden=NUM_HIDDEN):\n",
    "    \"\"\" \n",
    "    Train a network with one hidden layer\n",
    "    \n",
    "    Parameters\n",
    "    ----------\n",
    "    train_data, train_labels: output of `generate_dataset`.\n",
    "    batch_size : int\n",
    "        The number of items in training batch.\n",
    "    num_epochs : int\n",
    "        The number of training epochs.\n",
    "        \n",
    "    Returns\n",
    "    -------\n",
    "    w_hidden, b_hidden, w_out, b_out : Variable \n",
    "        Weights and biases for the hidden and output layer.\n",
    "    s : TensorFlow session\n",
    "    \"\"\"\n",
    "    # Get the shape of the training data.\n",
    "    train_size, num_features = train_data.shape\n",
    "    train_size, num_labels = train_labels.shape\n",
    "\n",
    "    x = T.matrix()\n",
    "    y = T.matrix()\n",
    "    \n",
    "    # Initialize the hidden weights and biases.\n",
    "    w_hidden = init_weights([num_features, num_hidden],\n",
    "                             'xavier',\n",
    "                             xavier_params=(num_features, num_hidden))\n",
    "\n",
    "    b_hidden = init_weights([num_hidden],'zeros')\n",
    "\n",
    "    # The hidden layer.\n",
    "    hidden = T.tanh(T.dot(x, w_hidden) + b_hidden)\n",
    "\n",
    "    # Initialize the output weights and biases.\n",
    "    w_out = init_weights([num_hidden, num_labels],\n",
    "                          'xavier',\n",
    "                          xavier_params=(num_hidden, num_labels))\n",
    "    \n",
    "    b_out = init_weights([num_labels],'zeros')\n",
    "\n",
    "    # The output layer.\n",
    "    y_hat = T.nnet.softmax(T.dot(hidden, w_out) + b_out)\n",
    "    \n",
    "    cross_entropy = -y * T.log(y_hat) - (1-y) * T.log(1-y_hat) # Cross-entropy loss function\n",
    "    cost = cross_entropy.mean()  # The cost to minimize\n",
    "    # The gradients of the function relative to the parameter:\n",
    "    gw_h, gb_h, gw_o, gb_o = T.grad(cost, [w_hidden, b_hidden, w_out, b_out])    \n",
    "\n",
    "    train = theano.function(inputs=[x, y],\n",
    "                            outputs=[y_hat, cross_entropy],\n",
    "                            updates=((w_hidden, w_hidden - 0.1 * gw_h), \n",
    "                                     (b_hidden, b_hidden - 0.1 * gb_h),\n",
    "                                     (w_out, w_out - 0.1 * gw_o), \n",
    "                                     (b_out, b_out - 0.1 * gb_o)))\n",
    "    \n",
    "    predict = theano.function(inputs=[x], outputs=y_hat)\n",
    "    \n",
    "    # Iterate and train:\n",
    "    print('Training:')\n",
    "    for step in xrange(num_epochs * train_size // batch_size):\n",
    "        print(step),\n",
    "\n",
    "        offset = (step * batch_size) % train_size\n",
    "        batch_data = train_data[offset:(offset + batch_size), :]\n",
    "        batch_labels = train_labels[offset:(offset + batch_size)]\n",
    "        pred, err = train(batch_data, batch_labels)\n",
    "\n",
    "        if offset >= train_size-batch_size:\n",
    "            print\n",
    "\n",
    "    return w_hidden, b_hidden, w_out, b_out"
   ]
  },
  {
   "cell_type": "code",
   "execution_count": 33,
   "metadata": {
    "collapsed": false
   },
   "outputs": [],
   "source": [
    "def evaluate_hidden(w_hidden, b_hidden, w_out, b_out, test_data, test_labels):\n",
    "    \"\"\" \n",
    "    Evaluate the parameters of a network with one hidden layer on test data\n",
    "    \n",
    "    Parameters\n",
    "    ----------\n",
    "    w_hidden, b_hidden, w_out, b_out, s : outputs of `train_hidden`\n",
    "    test_data, test_labels : outputs of `generate_dataset`\n",
    "    \n",
    "    Returns \n",
    "    -------\n",
    "    p_correct : float\n",
    "        The proportion correct classification\n",
    "    \n",
    "    \"\"\"\n",
    "    \n",
    "    test_size, num_features = test_data.shape\n",
    "    test_size, num_labels = test_labels.shape\n",
    "    # This is where training samples and labels are fed to the graph.\n",
    "    # These placeholder nodes will be fed a batch of training data at each\n",
    "    # training step using the {feed_dict} argument to the Run() call below.\n",
    "    x = T.matrix('x')\n",
    "    y = T.matrix('y')\n",
    "    \n",
    "    \n",
    "    hidden = T.tanh(T.dot(x, w_hidden) + b_hidden)\n",
    "    y_hat = T.nnet.softmax(T.dot(hidden, w_out) + b_out)\n",
    "    accuracy = T.eq(T.argmax(y_hat, 1), T.argmax(y, 1))\n",
    "    p_correct = T.mean(accuracy)\n",
    "    f_p_correct = theano.function([x, y], p_correct)\n",
    "    p_correct = f_p_correct(test_data, test_labels)\n",
    "    return p_correct"
   ]
  },
  {
   "cell_type": "code",
   "execution_count": 34,
   "metadata": {
    "collapsed": true
   },
   "outputs": [],
   "source": [
    "train_data, test_data, train_labels, test_labels = generate_dataset(make_circles, n_train=1000, n_test=200, noise=0.2, factor=0.1)"
   ]
  },
  {
   "cell_type": "code",
   "execution_count": 35,
   "metadata": {
    "collapsed": false
   },
   "outputs": [
    {
     "name": "stdout",
     "output_type": "stream",
     "text": [
      "Training:\n",
      "0 1 2 3 4 5 6 7 8 9\n",
      "10 11 12 13 14 15 16 17 18 19\n",
      "20 21 22 23 24 25 26 27 28 29\n",
      "30 31 32 33 34 35 36 37 38 39\n",
      "40 41 42 43 44 45 46 47 48 49\n"
     ]
    },
    {
     "data": {
      "text/plain": [
       "array(0.8)"
      ]
     },
     "execution_count": 35,
     "metadata": {},
     "output_type": "execute_result"
    }
   ],
   "source": [
    "w_hidden, b_hidden, w_out, b_out  = train_hidden(train_data, train_labels)\n",
    "evaluate_hidden(w_hidden, b_hidden, w_out, b_out, test_data, test_labels)"
   ]
  },
  {
   "cell_type": "code",
   "execution_count": 36,
   "metadata": {
    "collapsed": false
   },
   "outputs": [],
   "source": [
    "x = T.matrix('x')\n",
    "hidden = T.tanh(T.dot(x, w_hidden) + b_hidden)\n",
    "y_hat = T.nnet.softmax(T.dot(hidden, w_out) + b_out)\n",
    "f = theano.function([x], y_hat)\n",
    "cls = np.round(f(test_data))"
   ]
  },
  {
   "cell_type": "code",
   "execution_count": 37,
   "metadata": {
    "collapsed": false
   },
   "outputs": [
    {
     "data": {
      "image/png": "[encoded data removed]",
      "text/plain": [
       "<matplotlib.figure.Figure at 0x108f12510>"
      ]
     },
     "metadata": {},
     "output_type": "display_data"
    }
   ],
   "source": [
    "fig, ax = plt.subplots(1)\n",
    "ax.plot(test_data[np.where(cls[:, 0]), 0], test_data[np.where(cls[:, 0]), 1], 'bo')\n",
    "ax.plot(test_data[np.where(cls[:, 1]), 0], test_data[np.where(cls[:, 1]), 1], 'ro')\n",
    "ax.set_aspect('equal')"
   ]
  },
  {
   "cell_type": "code",
   "execution_count": 40,
   "metadata": {
    "collapsed": true
   },
   "outputs": [],
   "source": [
    "train_data, test_data, train_labels, test_labels = generate_dataset(make_moons, n_train=1000, n_test=200, noise=0.2)"
   ]
  },
  {
   "cell_type": "code",
   "execution_count": 41,
   "metadata": {
    "collapsed": false
   },
   "outputs": [
    {
     "name": "stdout",
     "output_type": "stream",
     "text": [
      "Training:\n",
      "0 1 2 3 4 5 6 7 8 9\n",
      "10 11 12 13 14 15 16 17 18 19\n",
      "20 21 22 23 24 25 26 27 28 29\n",
      "30 31 32 33 34 35 36 37 38 39\n",
      "40 41 42 43 44 45 46 47 48 49\n"
     ]
    },
    {
     "data": {
      "text/plain": [
       "array(0.83)"
      ]
     },
     "execution_count": 41,
     "metadata": {},
     "output_type": "execute_result"
    }
   ],
   "source": [
    "w_hidden, b_hidden, w_out, b_out = train_hidden(train_data, train_labels)\n",
    "evaluate_hidden(w_hidden, b_hidden, w_out, b_out, test_data, test_labels)"
   ]
  },
  {
   "cell_type": "code",
   "execution_count": 42,
   "metadata": {
    "collapsed": false
   },
   "outputs": [],
   "source": [
    "x = T.matrix('x')\n",
    "hidden = T.tanh(T.dot(x, w_hidden) + b_hidden)\n",
    "y_hat = T.nnet.softmax(T.dot(hidden, w_out) + b_out)\n",
    "f = theano.function([x], y_hat)\n",
    "cls = np.round(f(test_data))"
   ]
  },
  {
   "cell_type": "code",
   "execution_count": 43,
   "metadata": {
    "collapsed": false
   },
   "outputs": [
    {
     "data": {
      "image/png": "[encoded data removed]",
      "text/plain": [
       "<matplotlib.figure.Figure at 0x10a910cd0>"
      ]
     },
     "metadata": {},
     "output_type": "display_data"
    }
   ],
   "source": [
    "fig, ax = plt.subplots(1)\n",
    "ax.plot(test_data[np.where(cls[:, 0]), 0], test_data[np.where(cls[:, 0]), 1], 'bo')\n",
    "ax.plot(test_data[np.where(cls[:, 1]), 0], test_data[np.where(cls[:, 1]), 1], 'ro')\n",
    "ax.set_aspect('equal')"
   ]
  },
  {
   "cell_type": "markdown",
   "metadata": {},
   "source": [
    "## Next, we build a \"universal function approximator\" out of a similar network\n",
    "\n",
    "As implied above, neural networks with hidden layers can do *any* classification task. Moving \n",
    "from the world of classification to regression, an even more general statement is that they can be used to \n",
    "approximate any function (!). An intuitive explanation of this fact can be read [here](http://neuralnetworksanddeeplearning.com/chap4.html).\n",
    "\n",
    "Let's go ahdead and build a Universal Function Approximator, based on code in [a notebook by Delip Rao](https://github.com/delip/blog-stuff/blob/master/tensorflow_ufp.ipynb)."
   ]
  },
  {
   "cell_type": "code",
   "execution_count": 44,
   "metadata": {
    "collapsed": true
   },
   "outputs": [],
   "source": [
    "class UniversalFunctionApproximator(object):\n",
    "    \"\"\" Approximate any function using a neural network with a hidden layer\"\"\"\n",
    "    def __init__(self, \n",
    "                 n_hidden=NUM_HIDDEN, \n",
    "                 batch_size=BATCH_SIZE,\n",
    "                 n_epochs=NUM_EPOCHS):\n",
    "        \"\"\" Initialize a UniversalFunctionApproximator\n",
    "        \n",
    "        Parameters\n",
    "        ----------\n",
    "        n_hidden : number of units in the hidden layer\n",
    "        batch_size : how many samples in each batch (\"mini batch\") in training\n",
    "        n_epochs : how many rounds of training\n",
    "        \"\"\"\n",
    "        self.batch_size = batch_size\n",
    "        self.n_epochs = n_epochs\n",
    "        # Initialize the weights for both layers:\n",
    "        self.w_h = init_weights([n_hidden], 'xavier', xavier_params=(1, n_hidden))\n",
    "        self.b_h = init_weights([n_hidden], 'zeros')\n",
    "        self.w_o = init_weights([n_hidden], 'xavier', xavier_params=(n_hidden, 1))\n",
    "        self.b_o = init_weights([1], 'zeros')\n",
    "        \n",
    "    def _ann(self, X):    \n",
    "        \"\"\"A two-layer network\"\"\"\n",
    "        h = T.nnet.sigmoid(T.dot(X, self.w_h) + self.b_h)\n",
    "        return T.dot(h, self.w_o) + self.b_o\n",
    "\n",
    "    def fit(self, trainx, trainy):\n",
    "        \"\"\" \n",
    "        Fit a UFA to data\n",
    "        \n",
    "        Parameters\n",
    "        ----------\n",
    "        trainx, trainy : 1D arrays\n",
    "            x,y values of the data.\n",
    "        \"\"\"\n",
    "        \n",
    "        x = tf.placeholder(tf.float32, [None, 1], name=\"X\")\n",
    "        y = tf.placeholder(tf.float32, [None, 1], name=\"Y\")\n",
    "        y_hat = self._ann(x)\n",
    "        #cross_entropy = -tf.reduce_sum(y * tf.log(y_hat))\n",
    "        #train_step = tf.train.GradientDescentOptimizer(0.01).minimize(cross_entropy)\n",
    "        train_step = tf.train.AdamOptimizer().minimize(tf.nn.l2_loss(y_hat - y))\n",
    "        self.sess = tf.Session()\n",
    "        self.sess.run(tf.initialize_all_variables())\n",
    "        for i in range(self.n_epochs):\n",
    "            for start, end in zip(range(0, len(trainx), self.batch_size), \n",
    "                                  range(self.batch_size, len(trainx), self.batch_size)):\n",
    "                self.sess.run(train_step, feed_dict={x: trainx[start:end], y: trainy[start:end]})\n",
    "\n",
    "    def predict(self, testx):\n",
    "        \"\"\" \n",
    "        Predict y from x \n",
    "        \n",
    "        Parameters\n",
    "        ----------\n",
    "        testx : 1D array\n",
    "            x values to predict from.\n",
    "        \"\"\"\n",
    "        try:\n",
    "            return self.sess.run(self._ann(testx))\n",
    "        except AttributeError:\n",
    "            raise AttributeError(\"You need to run `fit` befor you can predict!\")"
   ]
  },
  {
   "cell_type": "code",
   "execution_count": null,
   "metadata": {
    "collapsed": true
   },
   "outputs": [],
   "source": [
    "function_to_learn = lambda x: np.sin(x) + 0.1 * np.random.randn(*x.shape)"
   ]
  },
  {
   "cell_type": "code",
   "execution_count": null,
   "metadata": {
    "collapsed": false
   },
   "outputs": [],
   "source": [
    "ufa = UniversalFunctionApproximator(n_hidden=100)"
   ]
  },
  {
   "cell_type": "code",
   "execution_count": null,
   "metadata": {
    "collapsed": true
   },
   "outputs": [],
   "source": [
    "num_examples = 1000000\n",
    "train_split = 0.99"
   ]
  },
  {
   "cell_type": "code",
   "execution_count": null,
   "metadata": {
    "collapsed": false
   },
   "outputs": [],
   "source": [
    "all_x = np.float32(np.random.uniform(-2*np.pi, 2*np.pi, (1, num_examples))).T\n",
    "np.random.shuffle(all_x)\n",
    "\n",
    "train_size = int(num_examples*train_split)\n",
    "\n",
    "trainx = all_x[:train_size]\n",
    "testx = all_x[train_size:]\n",
    "\n",
    "trainy = function_to_learn(trainx)\n",
    "testy = function_to_learn(testx)"
   ]
  },
  {
   "cell_type": "code",
   "execution_count": null,
   "metadata": {
    "collapsed": false
   },
   "outputs": [],
   "source": [
    "ufa.fit(trainx, trainy)"
   ]
  },
  {
   "cell_type": "code",
   "execution_count": null,
   "metadata": {
    "collapsed": false
   },
   "outputs": [],
   "source": [
    "y_hat = ufa.predict(testx)"
   ]
  },
  {
   "cell_type": "code",
   "execution_count": null,
   "metadata": {
    "collapsed": false
   },
   "outputs": [],
   "source": [
    "plt.plot(testx, testy, '.')\n",
    "plt.plot(testx, y_hat, '.')"
   ]
  },
  {
   "cell_type": "markdown",
   "metadata": {},
   "source": [
    "## Let's do something useful\n",
    "\n",
    "Building on top of what we've already done, let's try to do something useful. Like recognize hand-written digits in the MNIST data set:"
   ]
  },
  {
   "cell_type": "code",
   "execution_count": null,
   "metadata": {
    "collapsed": true
   },
   "outputs": [],
   "source": [
    "from sklearn.datasets import fetch_mldata\n",
    "mnist = fetch_mldata('MNIST original')"
   ]
  },
  {
   "cell_type": "code",
   "execution_count": null,
   "metadata": {
    "collapsed": true
   },
   "outputs": [],
   "source": [
    "data, labels = mnist.data, mnist.target"
   ]
  },
  {
   "cell_type": "code",
   "execution_count": null,
   "metadata": {
    "collapsed": true
   },
   "outputs": [],
   "source": [
    "labels_onehot = (np.arange(10) == labels[:, None])"
   ]
  },
  {
   "cell_type": "code",
   "execution_count": null,
   "metadata": {
    "collapsed": true
   },
   "outputs": [],
   "source": [
    "train_data, test_data, train_labels, test_labels = train_test_split(data, labels_onehot, train_size=0.9)"
   ]
  },
  {
   "cell_type": "code",
   "execution_count": null,
   "metadata": {
    "collapsed": false
   },
   "outputs": [],
   "source": [
    "x = tf.placeholder(\"float\", shape=[None, 784])\n",
    "y_ = tf.placeholder(\"float\", shape=[None, 10])\n",
    "W = tf.Variable(tf.zeros([784,10]))\n",
    "b = tf.Variable(tf.zeros([10]))\n",
    "s.run(tf.initialize_all_variables())\n",
    "y = tf.nn.softmax(tf.matmul(x,W) + b)\n",
    "cross_entropy = -tf.reduce_sum(y_*tf.log(y))\n",
    "train_step = tf.train.GradientDescentOptimizer(0.01).minimize(cross_entropy)\n",
    "\n",
    "\n",
    "def weight_variable(shape):\n",
    "    initial = tf.truncated_normal(shape, stddev=0.1)\n",
    "    return tf.Variable(initial)\n",
    "\n",
    "def bias_variable(shape):\n",
    "    initial = tf.constant(0.1, shape=shape)\n",
    "    return tf.Variable(initial)\n",
    "\n",
    "def conv2d(x, W):\n",
    "    return tf.nn.conv2d(x, W, strides=[1, 1, 1, 1], padding='SAME')\n",
    "\n",
    "def max_pool_2x2(x):\n",
    "    return tf.nn.max_pool(x, ksize=[1, 2, 2, 1],\n",
    "                        strides=[1, 2, 2, 1], padding='SAME')\n",
    "\n",
    "\n",
    "W_conv1 = weight_variable([5, 5, 1, 32])\n",
    "b_conv1 = bias_variable([32])\n",
    "\n",
    "x_image = tf.reshape(x, [-1,28,28,1])\n",
    "\n",
    "h_conv1 = tf.nn.relu(conv2d(x_image, W_conv1) + b_conv1)\n",
    "h_pool1 = max_pool_2x2(h_conv1)\n",
    "\n",
    "\n",
    "W_conv2 = weight_variable([5, 5, 32, 64])\n",
    "b_conv2 = bias_variable([64])\n",
    "\n",
    "h_conv2 = tf.nn.relu(conv2d(h_pool1, W_conv2) + b_conv2)\n",
    "h_pool2 = max_pool_2x2(h_conv2)\n",
    "W_fc1 = weight_variable([7 * 7 * 64, 1024])\n",
    "b_fc1 = bias_variable([1024])\n",
    "\n",
    "h_pool2_flat = tf.reshape(h_pool2, [-1, 7*7*64])\n",
    "h_fc1 = tf.nn.relu(tf.matmul(h_pool2_flat, W_fc1) + b_fc1)\n",
    "\n",
    "keep_prob = tf.placeholder(\"float\")\n",
    "h_fc1_drop = tf.nn.dropout(h_fc1, keep_prob)\n",
    "\n",
    "W_fc2 = weight_variable([1024, 10])\n",
    "b_fc2 = bias_variable([10])\n",
    "\n",
    "y_conv=tf.nn.softmax(tf.matmul(h_fc1_drop, W_fc2) + b_fc2)\n",
    "cross_entropy = -tf.reduce_sum(y_*tf.log(y_conv))\n",
    "train_step = tf.train.AdamOptimizer(1e-4).minimize(cross_entropy)\n",
    "correct_prediction = tf.equal(tf.argmax(y_conv,1), tf.argmax(y_,1))\n",
    "accuracy = tf.reduce_mean(tf.cast(correct_prediction, \"float\"))\n",
    "s.run(tf.initialize_all_variables())\n",
    "\n",
    "for i in range(20000):\n",
    "    batch = mnist.train.next_batch(50)\n",
    "    if i%100 == 0:\n",
    "        train_accuracy = accuracy.eval(feed_dict={\n",
    "            x:batch[0], y_: batch[1], keep_prob: 1.0})\n",
    "        print \"step %d, training accuracy %g\"%(i, train_accuracy)\n",
    "        train_step.run(feed_dict={x: batch[0], y_: batch[1], keep_prob: 0.5})\n",
    "\n",
    "print \"test accuracy %g\"%accuracy.eval(feed_dict={\n",
    "    x: mnist.test.images, y_: mnist.test.labels, keep_prob: 1.0})"
   ]
  },
  {
   "cell_type": "markdown",
   "metadata": {},
   "source": [
    "In building a convolutional neural network, we want to apply convolution and max pooling operations:"
   ]
  },
  {
   "cell_type": "code",
   "execution_count": null,
   "metadata": {
    "collapsed": true
   },
   "outputs": [],
   "source": []
  },
  {
   "cell_type": "code",
   "execution_count": null,
   "metadata": {
    "collapsed": true
   },
   "outputs": [],
   "source": [
    "def conv2d(x, W):\n",
    "    return tf.nn.conv2d(x, W, strides=[1, 1, 1, 1], \n",
    "                        padding='SAME')\n",
    "\n",
    "def max_pool_2x2(x):\n",
    "    return tf.nn.max_pool(x, \n",
    "                          ksize=[1, 2, 2, 1],\n",
    "                          strides=[1, 2, 2, 1], \n",
    "                          padding='SAME')"
   ]
  },
  {
   "cell_type": "code",
   "execution_count": null,
   "metadata": {
    "collapsed": true
   },
   "outputs": [],
   "source": [
    "def train_dnn(train_data, \n",
    "              train_labels, \n",
    "              batch_size=BATCH_SIZE,\n",
    "              num_epochs=NUM_EPOCHS, \n",
    "              num_hidden=NUM_HIDDEN,\n",
    "              sess=s,\n",
    "              num_hidden1=32,\n",
    "              num_hidden2=128):\n",
    "    \"\"\" \n",
    "    Train a network with two hidden layers\n",
    "    \n",
    "    Parameters\n",
    "    ----------\n",
    "    train_data, train_labels: output of `generate_dataset`.\n",
    "    batch_size : int\n",
    "        The number of items in training batch.\n",
    "    num_epochs : int\n",
    "        The number of training epochs.\n",
    "        \n",
    "    Returns\n",
    "    -------\n",
    "    w_hidden, b_hidden, w_out, b_out : Variable \n",
    "        Weights and biases for the hidden and output layer.\n",
    "    s : TensorFlow session\n",
    "    \"\"\"\n",
    "    # Get the shape of the training data.\n",
    "    train_size, num_features = train_data.shape\n",
    "    train_size, num_labels = train_labels.shape\n",
    "    # This is where training samples and labels are fed to the graph.\n",
    "    # These placeholder nodes will be fed a batch of training data at each\n",
    "    # training step using the {feed_dict} argument to the Run() call below.\n",
    "    x = tf.placeholder(\"float\", shape=[None, num_features])\n",
    "    y = tf.placeholder(\"float\", shape=[None, num_labels])\n",
    "    \n",
    "    # Initialize the hidden weights and biases.\n",
    "    w_hidden1 = init_weights(\n",
    "        [num_features, num_hidden1],\n",
    "        'xavier',\n",
    "        xavier_params=(num_features, num_hidden1))\n",
    "\n",
    "    b_hidden1 = init_weights([1, num_hidden1],'zeros')\n",
    "\n",
    "    hidden1 = tf.nn.tanh(tf.matmul(x, w_hidden1) + b_hidden1)\n",
    "    \n",
    "    # Initialize the hidden weights and biases.\n",
    "    w_hidden2 = init_weights(\n",
    "        [num_hidden1, num_hidden2],\n",
    "        'xavier',\n",
    "        xavier_params=(num_hidden1, num_hidden2))\n",
    "\n",
    "    b_hidden2 = init_weights([1, num_hidden2],'zeros')\n",
    "\n",
    "    # The hidden layer.\n",
    "    hidden2 = tf.nn.tanh(tf.matmul(hidden1, w_hidden2) + b_hidden2)\n",
    "\n",
    "    # Initialize the output weights and biases.\n",
    "    w_out = init_weights(\n",
    "        [num_hidden2, num_labels],\n",
    "        'xavier',\n",
    "        xavier_params=(num_hidden2, num_labels))\n",
    "    \n",
    "    b_out = init_weights([1, num_labels],'zeros')\n",
    "\n",
    "    # The output layer.\n",
    "    y_hat = tf.nn.softmax(tf.matmul(hidden2, w_out) + b_out)\n",
    "    \n",
    "    # Optimization.\n",
    "    train_step = tf.train.AdamOptimizer().minimize(tf.nn.l2_loss(y_hat - y))    \n",
    "    tf.initialize_all_variables().run(session=sess)\n",
    "    print 'Initialized!'\n",
    "    # Iterate and train:\n",
    "    print('Training.')\n",
    "    for step in xrange(num_epochs * train_size // batch_size):\n",
    "        print(step),\n",
    "\n",
    "        offset = (step * batch_size) % train_size\n",
    "        batch_data = train_data[offset:(offset + batch_size), :]\n",
    "        batch_labels = train_labels[offset:(offset + batch_size)]\n",
    "        train_step.run(feed_dict={x: batch_data, y: batch_labels}, session=sess)\n",
    "\n",
    "        if offset >= train_size-batch_size:\n",
    "            print\n",
    "    return w_hidden1, b_hidden1, w_hidden2, b_hidden2, w_out, b_out\n"
   ]
  },
  {
   "cell_type": "code",
   "execution_count": null,
   "metadata": {
    "collapsed": false
   },
   "outputs": [],
   "source": [
    "w_hidden1, b_hidden1, w_hidden2, b_hidden2, w_out, b_out = train_dnn(train_data,train_labels)"
   ]
  },
  {
   "cell_type": "code",
   "execution_count": null,
   "metadata": {
    "collapsed": true
   },
   "outputs": [],
   "source": [
    "def evaluate_dnn(w_hidden1, b_hidden1, w_hidden2, b_hidden2, w_out, b_out, test_data, test_labels, sess=s):\n",
    "    \"\"\" \n",
    "    Evaluate the parameters of a network with two hidden layers on test data\n",
    "    \n",
    "    Parameters\n",
    "    ----------\n",
    "    w_hidden, b_hidden, w_out, b_out, s : outputs of `train_hidden`\n",
    "    test_data, test_labels : outputs of `generate_dataset`\n",
    "    \n",
    "    Returns \n",
    "    -------\n",
    "    p_correct : float\n",
    "        The proportion correct classification\n",
    "    \n",
    "    \"\"\"\n",
    "    test_size, num_features = test_data.shape\n",
    "    test_size, num_labels = test_labels.shape\n",
    "    # This is where training samples and labels are fed to the graph.\n",
    "    # These placeholder nodes will be fed a batch of training data at each\n",
    "    # training step using the {feed_dict} argument to the Run() call below.\n",
    "    x = tf.placeholder(\"float\", shape=[None, num_features])\n",
    "    y = tf.placeholder(\"float\", shape=[None, num_labels])\n",
    "\n",
    "    hidden1 = tf.nn.tanh(tf.matmul(x, w_hidden1) + b_hidden1)\n",
    "    hidden2 = tf.nn.tanh(tf.matmul(hidden1, w_hidden2) + b_hidden2)\n",
    "    y_hat = tf.nn.softmax(tf.matmul(hidden2, w_out) + b_out)\n",
    "    \n",
    "    # Evaluation:\n",
    "    correct_prediction = tf.equal(tf.argmax(y_hat, 1), tf.argmax(y, 1))\n",
    "    accuracy = tf.reduce_mean(tf.cast(correct_prediction, \"float\"))\n",
    "    p_correct = accuracy.eval(feed_dict={x: test_data, y: test_labels}, session=sess)\n",
    "    return p_correct\n"
   ]
  },
  {
   "cell_type": "code",
   "execution_count": null,
   "metadata": {
    "collapsed": false
   },
   "outputs": [],
   "source": [
    "evaluate_dnn(w_hidden1, b_hidden1, w_hidden2, b_hidden2, w_out, b_out, test_data, test_labels, sess=s)"
   ]
  },
  {
   "cell_type": "code",
   "execution_count": null,
   "metadata": {
    "collapsed": true
   },
   "outputs": [],
   "source": [
    "x = tf.placeholder(\"float\", shape=[None, 784])\n",
    "y_ = tf.placeholder(\"float\", shape=[None, 10])\n",
    "W = tf.Variable(tf.zeros([784,10]))\n",
    "b = tf.Variable(tf.zeros([10]))\n",
    "s.run(tf.initialize_all_variables())\n",
    "y = tf.nn.softmax(tf.matmul(x,W) + b)\n",
    "cross_entropy = -tf.reduce_sum(y_*tf.log(y))\n",
    "train_step = tf.train.GradientDescentOptimizer(0.01).minimize(cross_entropy)\n",
    "\n",
    "\n",
    "def weight_variable(shape):\n",
    "    initial = tf.truncated_normal(shape, stddev=0.1)\n",
    "    return tf.Variable(initial)\n",
    "\n",
    "def bias_variable(shape):\n",
    "    initial = tf.constant(0.1, shape=shape)\n",
    "    return tf.Variable(initial)\n",
    "\n",
    "def conv2d(x, W):\n",
    "    return tf.nn.conv2d(x, W, strides=[1, 1, 1, 1], padding='SAME')\n",
    "\n",
    "def max_pool_2x2(x):\n",
    "    return tf.nn.max_pool(x, ksize=[1, 2, 2, 1],\n",
    "                        strides=[1, 2, 2, 1], padding='SAME')\n",
    "\n",
    "\n",
    "W_conv1 = weight_variable([5, 5, 1, 32])\n",
    "b_conv1 = bias_variable([32])\n",
    "\n",
    "x_image = tf.reshape(x, [-1,28,28,1])\n",
    "\n",
    "h_conv1 = tf.nn.relu(conv2d(x_image, W_conv1) + b_conv1)\n",
    "h_pool1 = max_pool_2x2(h_conv1)\n",
    "\n",
    "\n",
    "W_conv2 = weight_variable([5, 5, 32, 64])\n",
    "b_conv2 = bias_variable([64])\n",
    "\n",
    "h_conv2 = tf.nn.relu(conv2d(h_pool1, W_conv2) + b_conv2)\n",
    "h_pool2 = max_pool_2x2(h_conv2)\n",
    "W_fc1 = weight_variable([7 * 7 * 64, 1024])\n",
    "b_fc1 = bias_variable([1024])\n",
    "\n",
    "h_pool2_flat = tf.reshape(h_pool2, [-1, 7*7*64])\n",
    "h_fc1 = tf.nn.relu(tf.matmul(h_pool2_flat, W_fc1) + b_fc1)\n",
    "\n",
    "keep_prob = tf.placeholder(\"float\")\n",
    "h_fc1_drop = tf.nn.dropout(h_fc1, keep_prob)\n",
    "\n",
    "W_fc2 = weight_variable([1024, 10])\n",
    "b_fc2 = bias_variable([10])\n",
    "\n",
    "y_conv=tf.nn.softmax(tf.matmul(h_fc1_drop, W_fc2) + b_fc2)\n",
    "cross_entropy = -tf.reduce_sum(y_*tf.log(y_conv))\n",
    "train_step = tf.train.AdamOptimizer(1e-4).minimize(cross_entropy)\n",
    "correct_prediction = tf.equal(tf.argmax(y_conv,1), tf.argmax(y_,1))\n",
    "accuracy = tf.reduce_mean(tf.cast(correct_prediction, \"float\"))\n",
    "s.run(tf.initialize_all_variables())\n",
    "\n",
    "for i in range(20000):\n",
    "    batch = mnist.train.next_batch(50)\n",
    "    if i%100 == 0:\n",
    "        train_accuracy = accuracy.eval(feed_dict={\n",
    "            x:batch[0], y_: batch[1], keep_prob: 1.0})\n",
    "        print \"step %d, training accuracy %g\"%(i, train_accuracy)\n",
    "        train_step.run(feed_dict={x: batch[0], y_: batch[1], keep_prob: 0.5})\n",
    "\n",
    "print \"test accuracy %g\"%accuracy.eval(feed_dict={\n",
    "    x: mnist.test.images, y_: mnist.test.labels, keep_prob: 1.0})"
   ]
  }
 ],
 "metadata": {
  "kernelspec": {
   "display_name": "Python 2",
   "language": "python",
   "name": "python2"
  },
  "language_info": {
   "codemirror_mode": {
    "name": "ipython",
    "version": 2
   },
   "file_extension": ".py",
   "mimetype": "text/x-python",
   "name": "python",
   "nbconvert_exporter": "python",
   "pygments_lexer": "ipython2",
   "version": "2.7.10"
  }
 },
 "nbformat": 4,
 "nbformat_minor": 0
}
